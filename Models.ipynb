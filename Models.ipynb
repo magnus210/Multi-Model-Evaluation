{
 "cells": [
  {
   "cell_type": "code",
   "execution_count": 1,
   "id": "b530857e",
   "metadata": {},
   "outputs": [],
   "source": [
    "import pandas as pd\n",
    "import numpy as np\n",
    "from sklearn.model_selection import train_test_split\n",
    "from sklearn.preprocessing import StandardScaler, OneHotEncoder, LabelEncoder\n",
    "from sklearn.metrics import classification_report, silhouette_score, silhouette_samples\n",
    "from sklearn.svm import SVC\n",
    "from sklearn.cluster import KMeans\n",
    "from sklearn.neural_network import MLPClassifier\n",
    "from sklearn.utils import resample\n",
    "from tensorflow.keras import models, layers\n",
    "from tensorflow.keras.utils import to_categorical\n",
    "import matplotlib.pyplot as plt\n",
    "import matplotlib.cm as cm"
   ]
  },
  {
   "cell_type": "code",
   "execution_count": 2,
   "id": "bb969a42",
   "metadata": {},
   "outputs": [],
   "source": [
    "def load_data(file_path):\n",
    "    data = pd.read_csv(file_path)\n",
    "    print(\"Initial Class Distribution:\")\n",
    "    print(data['Spectral Class'].value_counts())\n",
    "    plot_class_distribution(data['Spectral Class'], title=\"Initial Class Distribution\")\n",
    "    return data\n",
    "\n",
    "\n",
    "def plot_class_distribution(class_series, title=\"Class Distribution\"):\n",
    "    class_series.value_counts().plot(kind='bar', figsize=(8, 6), rot=0, color='skyblue')\n",
    "    plt.title(title)\n",
    "    plt.xlabel(\"Spectral Class\")\n",
    "    plt.ylabel(\"Frequency\")\n",
    "    plt.show()"
   ]
  },
  {
   "cell_type": "code",
   "execution_count": 3,
   "id": "fb4f2d97",
   "metadata": {},
   "outputs": [],
   "source": [
    "def rectify_imbalance(data, target_column='Spectral Class'):\n",
    "    class_names = data[target_column].unique()\n",
    "    max_samples = data[target_column].value_counts().max()\n",
    "    \n",
    "    balanced_data = pd.DataFrame(columns=data.columns)\n",
    "    for class_name in class_names:\n",
    "        class_data = data[data[target_column] == class_name]\n",
    "        resampled = resample(class_data, replace=True, n_samples=max_samples, random_state=42)\n",
    "        balanced_data = pd.concat([balanced_data, resampled], ignore_index=True)\n",
    "    \n",
    "    print(\"Balanced Class Distribution:\")\n",
    "    print(balanced_data[target_column].value_counts())\n",
    "    plot_class_distribution(balanced_data[target_column], title=\"Balanced Class Distribution\")\n",
    "    return balanced_data"
   ]
  },
  {
   "cell_type": "code",
   "execution_count": 4,
   "id": "587239bf",
   "metadata": {},
   "outputs": [],
   "source": [
    "def preprocess_features(data, target_column='Spectral Class'):\n",
    "    # Separate features and label\n",
    "    X = data.drop(columns=[target_column])\n",
    "    y = data[target_column]\n",
    "\n",
    "    # Identify categorical columns (excluding target)\n",
    "    categorical_cols = X.select_dtypes(include=['object']).columns\n",
    "\n",
    "    # One-hot encode categorical features\n",
    "    encoder = OneHotEncoder(sparse_output=False, handle_unknown='ignore')\n",
    "\n",
    "    X_encoded = encoder.fit_transform(X[categorical_cols])\n",
    "\n",
    "    # Create DataFrame for encoded features\n",
    "    encoded_df = pd.DataFrame(X_encoded, columns=encoder.get_feature_names_out(categorical_cols))\n",
    "\n",
    "    # Combine numerical and encoded categorical features\n",
    "    numerical_df = X.drop(columns=categorical_cols).reset_index(drop=True)\n",
    "    processed_X = pd.concat([numerical_df, encoded_df], axis=1)\n",
    "\n",
    "    return processed_X, y\n",
    "\n"
   ]
  },
  {
   "cell_type": "code",
   "execution_count": 5,
   "id": "0da199f5",
   "metadata": {},
   "outputs": [],
   "source": [
    "def split_and_scale(X, y, test_size=0.2, random_state=42):\n",
    "    X_train, X_test, y_train, y_test = train_test_split(X, y, test_size=test_size, random_state=random_state)\n",
    "    \n",
    "    scaler = StandardScaler()\n",
    "    X_train_scaled = scaler.fit_transform(X_train)\n",
    "    X_test_scaled = scaler.transform(X_test)\n",
    "    \n",
    "    return X_train_scaled, X_test_scaled, y_train, y_test"
   ]
  },
  {
   "cell_type": "code",
   "execution_count": 6,
   "id": "e0d11bba",
   "metadata": {},
   "outputs": [],
   "source": [
    "def train_and_evaluate_svm(X_train, y_train, X_test, y_test):\n",
    "    svm_model = SVC(kernel='rbf', C=10.0, gamma=0.01)\n",
    "    svm_model.fit(X_train, y_train)\n",
    "    \n",
    "    y_pred = svm_model.predict(X_test)\n",
    "    \n",
    "    print(\"SVM Classification Report:\")\n",
    "    print(classification_report(y_test, y_pred))\n",
    "    \n",
    "    return svm_model\n"
   ]
  },
  {
   "cell_type": "code",
   "execution_count": 7,
   "id": "427405bc",
   "metadata": {},
   "outputs": [],
   "source": [
    "\n",
    "\n",
    "def train_and_evaluate_kmeans(X_train):\n",
    "    kmeans_model = KMeans(n_clusters=7, init='k-means++', n_init=10, max_iter=300, random_state=42)\n",
    "    kmeans_model.fit(X_train)\n",
    "\n",
    "    cluster_labels = kmeans_model.labels_\n",
    "    silhouette_avg = silhouette_score(X_train, cluster_labels)\n",
    "    print(f\"KMeans Clustering: Average Silhouette Score = {silhouette_avg:.4f}\")\n",
    "\n",
    "    return kmeans_model\n"
   ]
  },
  {
   "cell_type": "code",
   "execution_count": 8,
   "id": "0479a9cc",
   "metadata": {},
   "outputs": [],
   "source": [
    "def visualize_kmeans(kmeans, X):\n",
    "    cluster_labels = kmeans.labels_\n",
    "    silhouette_avg = silhouette_score(X, cluster_labels)\n",
    "    print(f\"For n_clusters = {kmeans.n_clusters}, the average silhouette_score is: {silhouette_avg:.4f}\")\n",
    "\n",
    "    sample_silhouette_values = silhouette_samples(X, cluster_labels)\n",
    "    y_lower = 10\n",
    "    plt.figure(figsize=(10, 7))\n",
    "\n",
    "    for i in range(kmeans.n_clusters):\n",
    "        ith_cluster_silhouette_values = sample_silhouette_values[cluster_labels == i]\n",
    "        ith_cluster_silhouette_values.sort()\n",
    "        size_cluster_i = ith_cluster_silhouette_values.shape[0]\n",
    "        y_upper = y_lower + size_cluster_i\n",
    "\n",
    "        color = cm.nipy_spectral(float(i) / kmeans.n_clusters)\n",
    "        plt.fill_betweenx(np.arange(y_lower, y_upper), 0, ith_cluster_silhouette_values,\n",
    "                          facecolor=color, edgecolor=color, alpha=0.7)\n",
    "        plt.text(-0.05, y_lower + 0.5 * size_cluster_i, str(i))\n",
    "        y_lower = y_upper + 10\n",
    "\n",
    "    plt.axvline(x=silhouette_avg, color=\"red\", linestyle=\"--\")\n",
    "    plt.title(\"Silhouette Plot for Clusters\")\n",
    "    plt.xlabel(\"Silhouette Coefficient Values\")\n",
    "    plt.ylabel(\"Cluster Label\")\n",
    "    plt.yticks([])\n",
    "    plt.xticks(np.arange(-0.1, 1.1, 0.2))\n",
    "    plt.show()"
   ]
  },
  {
   "cell_type": "code",
   "execution_count": 9,
   "id": "353223ef",
   "metadata": {},
   "outputs": [],
   "source": [
    "\n",
    "\n",
    "def train_and_evaluate_mlp(X_train, y_train, X_test, y_test):\n",
    "    mlp_model = MLPClassifier(hidden_layer_sizes=(150, 100, 50), activation='relu',\n",
    "                              solver='adam', learning_rate_init=0.001, max_iter=2000, random_state=42)\n",
    "    mlp_model.fit(X_train, y_train)\n",
    "\n",
    "    y_pred = mlp_model.predict(X_test)\n",
    "    print(\"MLP Classification Report:\")\n",
    "    print(classification_report(y_test, y_pred))\n",
    "\n",
    "    return mlp_model\n"
   ]
  },
  {
   "cell_type": "code",
   "execution_count": 10,
   "id": "0490671d",
   "metadata": {},
   "outputs": [],
   "source": [
    "\n",
    "def train_and_evaluate_cnn(X_train, y_train, X_test, y_test):\n",
    "    # Reshape for Conv1D: (samples, features, channels)\n",
    "    X_train_cnn = X_train.reshape((X_train.shape[0], X_train.shape[1], 1))\n",
    "    X_test_cnn = X_test.reshape((X_test.shape[0], X_test.shape[1], 1))\n",
    "\n",
    "    label_encoder = LabelEncoder()\n",
    "    y_train_enc = label_encoder.fit_transform(y_train)\n",
    "    y_test_enc = label_encoder.transform(y_test)\n",
    "\n",
    "    y_train_cat = to_categorical(y_train_enc)\n",
    "    y_test_cat = to_categorical(y_test_enc)\n",
    "\n",
    "    cnn_model = models.Sequential([\n",
    "        layers.Conv1D(32, 3, activation='relu', input_shape=(X_train.shape[1], 1)),\n",
    "        layers.MaxPooling1D(2),\n",
    "        layers.Conv1D(64, 3, activation='relu'),\n",
    "        layers.MaxPooling1D(2),\n",
    "        layers.Conv1D(64, 3, activation='relu'),\n",
    "        layers.Flatten(),\n",
    "        layers.Dense(64, activation='relu'),\n",
    "        layers.Dense(len(label_encoder.classes_), activation='softmax')\n",
    "    ])\n",
    "\n",
    "    cnn_model.compile(optimizer='adam', loss='categorical_crossentropy', metrics=['accuracy'])\n",
    "\n",
    "    cnn_model.fit(X_train_cnn, y_train_cat, epochs=10, batch_size=32, validation_split=0.2, verbose=1)\n",
    "\n",
    "    y_pred_prob = cnn_model.predict(X_test_cnn)\n",
    "    y_pred = np.argmax(y_pred_prob, axis=1)\n",
    "    y_true = np.argmax(y_test_cat, axis=1)\n",
    "\n",
    "    print(\"CNN Classification Report:\")\n",
    "    print(classification_report(y_true, y_pred, target_names=label_encoder.classes_))\n",
    "\n",
    "    return cnn_model\n"
   ]
  },
  {
   "cell_type": "code",
   "execution_count": 12,
   "id": "a9a2a9b9",
   "metadata": {},
   "outputs": [
    {
     "name": "stdout",
     "output_type": "stream",
     "text": [
      "Initial Class Distribution:\n",
      "M    111\n",
      "B     46\n",
      "O     40\n",
      "A     19\n",
      "F     17\n",
      "K      6\n",
      "G      1\n",
      "Name: Spectral Class, dtype: int64\n"
     ]
    },
    {
     "data": {
      "image/png": "[encoded data removed]",
      "text/plain": [
       "<Figure size 800x600 with 1 Axes>"
      ]
     },
     "metadata": {},
     "output_type": "display_data"
    },
    {
     "name": "stdout",
     "output_type": "stream",
     "text": [
      "Balanced Class Distribution:\n",
      "M    111\n",
      "B    111\n",
      "A    111\n",
      "F    111\n",
      "O    111\n",
      "K    111\n",
      "G    111\n",
      "Name: Spectral Class, dtype: int64\n"
     ]
    },
    {
     "data": {
      "image/png": "[encoded data removed]",
      "text/plain": [
       "<Figure size 800x600 with 1 Axes>"
      ]
     },
     "metadata": {},
     "output_type": "display_data"
    },
    {
     "name": "stdout",
     "output_type": "stream",
     "text": [
      "SVM Classification Report:\n",
      "              precision    recall  f1-score   support\n",
      "\n",
      "           A       1.00      1.00      1.00        16\n",
      "           B       1.00      0.94      0.97        18\n",
      "           F       1.00      1.00      1.00        21\n",
      "           G       0.92      1.00      0.96        23\n",
      "           K       0.70      1.00      0.83        26\n",
      "           M       1.00      0.58      0.73        26\n",
      "           O       1.00      0.96      0.98        26\n",
      "\n",
      "    accuracy                           0.92       156\n",
      "   macro avg       0.95      0.93      0.92       156\n",
      "weighted avg       0.94      0.92      0.91       156\n",
      "\n",
      "KMeans Clustering: Average Silhouette Score = -0.0857\n",
      "For n_clusters = 7, the average silhouette_score is: -0.0857\n"
     ]
    },
    {
     "data": {
      "image/png": "[encoded data removed]",
      "text/plain": [
       "<Figure size 1000x700 with 1 Axes>"
      ]
     },
     "metadata": {},
     "output_type": "display_data"
    },
    {
     "name": "stdout",
     "output_type": "stream",
     "text": [
      "MLP Classification Report:\n",
      "              precision    recall  f1-score   support\n",
      "\n",
      "           A       1.00      1.00      1.00        16\n",
      "           B       1.00      1.00      1.00        18\n",
      "           F       1.00      1.00      1.00        21\n",
      "           G       0.92      1.00      0.96        23\n",
      "           K       0.96      1.00      0.98        26\n",
      "           M       1.00      0.88      0.94        26\n",
      "           O       1.00      1.00      1.00        26\n",
      "\n",
      "    accuracy                           0.98       156\n",
      "   macro avg       0.98      0.98      0.98       156\n",
      "weighted avg       0.98      0.98      0.98       156\n",
      "\n",
      "Epoch 1/10\n"
     ]
    },
    {
     "name": "stderr",
     "output_type": "stream",
     "text": [
      "C:\\Users\\Dell\\AppData\\Local\\Packages\\PythonSoftwareFoundation.Python.3.11_qbz5n2kfra8p0\\LocalCache\\local-packages\\Python311\\site-packages\\keras\\src\\layers\\convolutional\\base_conv.py:107: UserWarning: Do not pass an `input_shape`/`input_dim` argument to a layer. When using Sequential models, prefer using an `Input(shape)` object as the first layer in the model instead.\n",
      "  super().__init__(activity_regularizer=activity_regularizer, **kwargs)\n"
     ]
    },
    {
     "name": "stdout",
     "output_type": "stream",
     "text": [
      "\u001b[1m16/16\u001b[0m \u001b[32m━━━━━━━━━━━━━━━━━━━━\u001b[0m\u001b[37m\u001b[0m \u001b[1m4s\u001b[0m 40ms/step - accuracy: 0.5343 - loss: 1.5601 - val_accuracy: 0.8400 - val_loss: 0.4835\n",
      "Epoch 2/10\n",
      "\u001b[1m16/16\u001b[0m \u001b[32m━━━━━━━━━━━━━━━━━━━━\u001b[0m\u001b[37m\u001b[0m \u001b[1m0s\u001b[0m 14ms/step - accuracy: 0.9076 - loss: 0.3700 - val_accuracy: 0.9520 - val_loss: 0.2133\n",
      "Epoch 3/10\n",
      "\u001b[1m16/16\u001b[0m \u001b[32m━━━━━━━━━━━━━━━━━━━━\u001b[0m\u001b[37m\u001b[0m \u001b[1m0s\u001b[0m 14ms/step - accuracy: 0.9540 - loss: 0.1357 - val_accuracy: 0.9760 - val_loss: 0.0995\n",
      "Epoch 4/10\n",
      "\u001b[1m16/16\u001b[0m \u001b[32m━━━━━━━━━━━━━━━━━━━━\u001b[0m\u001b[37m\u001b[0m \u001b[1m0s\u001b[0m 14ms/step - accuracy: 0.9963 - loss: 0.0340 - val_accuracy: 0.9760 - val_loss: 0.1067\n",
      "Epoch 5/10\n",
      "\u001b[1m16/16\u001b[0m \u001b[32m━━━━━━━━━━━━━━━━━━━━\u001b[0m\u001b[37m\u001b[0m \u001b[1m0s\u001b[0m 13ms/step - accuracy: 0.9892 - loss: 0.0463 - val_accuracy: 0.9680 - val_loss: 0.1719\n",
      "Epoch 6/10\n",
      "\u001b[1m16/16\u001b[0m \u001b[32m━━━━━━━━━━━━━━━━━━━━\u001b[0m\u001b[37m\u001b[0m \u001b[1m0s\u001b[0m 12ms/step - accuracy: 1.0000 - loss: 0.0041 - val_accuracy: 0.9600 - val_loss: 0.1947\n",
      "Epoch 7/10\n",
      "\u001b[1m16/16\u001b[0m \u001b[32m━━━━━━━━━━━━━━━━━━━━\u001b[0m\u001b[37m\u001b[0m \u001b[1m0s\u001b[0m 13ms/step - accuracy: 1.0000 - loss: 0.0018 - val_accuracy: 0.9680 - val_loss: 0.1957\n",
      "Epoch 8/10\n",
      "\u001b[1m16/16\u001b[0m \u001b[32m━━━━━━━━━━━━━━━━━━━━\u001b[0m\u001b[37m\u001b[0m \u001b[1m0s\u001b[0m 13ms/step - accuracy: 1.0000 - loss: 0.0012 - val_accuracy: 0.9680 - val_loss: 0.1919\n",
      "Epoch 9/10\n",
      "\u001b[1m16/16\u001b[0m \u001b[32m━━━━━━━━━━━━━━━━━━━━\u001b[0m\u001b[37m\u001b[0m \u001b[1m0s\u001b[0m 17ms/step - accuracy: 1.0000 - loss: 9.4002e-04 - val_accuracy: 0.9600 - val_loss: 0.1940\n",
      "Epoch 10/10\n",
      "\u001b[1m16/16\u001b[0m \u001b[32m━━━━━━━━━━━━━━━━━━━━\u001b[0m\u001b[37m\u001b[0m \u001b[1m0s\u001b[0m 16ms/step - accuracy: 1.0000 - loss: 7.4880e-04 - val_accuracy: 0.9680 - val_loss: 0.1952\n",
      "\u001b[1m5/5\u001b[0m \u001b[32m━━━━━━━━━━━━━━━━━━━━\u001b[0m\u001b[37m\u001b[0m \u001b[1m0s\u001b[0m 36ms/step\n",
      "CNN Classification Report:\n",
      "              precision    recall  f1-score   support\n",
      "\n",
      "           A       0.89      1.00      0.94        16\n",
      "           B       1.00      0.94      0.97        18\n",
      "           F       1.00      1.00      1.00        21\n",
      "           G       0.88      1.00      0.94        23\n",
      "           K       1.00      1.00      1.00        26\n",
      "           M       1.00      0.88      0.94        26\n",
      "           O       1.00      0.96      0.98        26\n",
      "\n",
      "    accuracy                           0.97       156\n",
      "   macro avg       0.97      0.97      0.97       156\n",
      "weighted avg       0.97      0.97      0.97       156\n",
      "\n"
     ]
    }
   ],
   "source": [
    "def main():\n",
    "    # Load data\n",
    "    data = load_data(\"stars_data.csv\")\n",
    "\n",
    "    # Balance classes\n",
    "    balanced_data = rectify_imbalance(data)\n",
    "\n",
    "    # Preprocess features and label\n",
    "    X, y = preprocess_features(balanced_data)\n",
    "\n",
    "    # Split and scale data\n",
    "    X_train, X_test, y_train, y_test = split_and_scale(X, y)\n",
    "\n",
    "    # Train and evaluate models\n",
    "    svm_model = train_and_evaluate_svm(X_train, y_train, X_test, y_test)\n",
    "    kmeans_model = train_and_evaluate_kmeans(X_train)\n",
    "    visualize_kmeans(kmeans_model, X_train)\n",
    "    mlp_model = train_and_evaluate_mlp(X_train, y_train, X_test, y_test)\n",
    "    cnn_model = train_and_evaluate_cnn(X_train, y_train, X_test, y_test)\n",
    "\n",
    "\n",
    "\n",
    "if __name__ == \"__main__\":\n",
    "    main()"
   ]
  }
 ],
 "metadata": {
  "kernelspec": {
   "display_name": "Python 3",
   "language": "python",
   "name": "python3"
  },
  "language_info": {
   "codemirror_mode": {
    "name": "ipython",
    "version": 3
   },
   "file_extension": ".py",
   "mimetype": "text/x-python",
   "name": "python",
   "nbconvert_exporter": "python",
   "pygments_lexer": "ipython3",
   "version": "3.11.9"
  }
 },
 "nbformat": 4,
 "nbformat_minor": 5
}
